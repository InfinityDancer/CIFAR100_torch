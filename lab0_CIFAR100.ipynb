{
  "cells": [
    {
      "cell_type": "code",
      "execution_count": 1,
      "metadata": {
        "id": "8Y-9erJ9BFsY"
      },
      "outputs": [],
      "source": [
        "import torch\n",
        "import torch.nn as nn\n",
        "import torch.optim as optim\n",
        "import torchvision\n",
        "import torchvision.transforms as transforms\n",
        "from torchvision import models"
      ]
    },
    {
      "cell_type": "code",
      "execution_count": 2,
      "metadata": {
        "colab": {
          "base_uri": "https://localhost:8080/"
        },
        "id": "PJQRYpanBUrx",
        "outputId": "c736b784-a844-4ff2-bcf7-b409313fe63b"
      },
      "outputs": [
        {
          "name": "stdout",
          "output_type": "stream",
          "text": [
            "Using device: cuda\n"
          ]
        }
      ],
      "source": [
        "device = torch.device(\"cuda\" if torch.cuda.is_available() else \"cpu\")\n",
        "print(f\"Using device: {device}\")"
      ]
    },
    {
      "cell_type": "code",
      "execution_count": null,
      "metadata": {
        "id": "sDvJBn0YBXNW"
      },
      "outputs": [],
      "source": [
        "transform = transforms.Compose([\n",
        "    transforms.Resize((32, 32)),  # keepign CIFAR-100 native size\n",
        "    transforms.ToTensor(),\n",
        "    transforms.Normalize((0.5071, 0.4867, 0.4408),\n",
        "                         (0.2675, 0.2565, 0.2761)),\n",
        "])"
      ]
    },
    {
      "cell_type": "code",
      "execution_count": null,
      "metadata": {
        "colab": {
          "base_uri": "https://localhost:8080/"
        },
        "id": "pP1gXzatBX4q",
        "outputId": "05a10fef-381d-4b70-fca0-81825243bca2"
      },
      "outputs": [],
      "source": [
        "trainset = torchvision.datasets.CIFAR100(root='./data', train=True, download=False, transform=transform)\n",
        "trainloader = torch.utils.data.DataLoader(trainset, batch_size=128, shuffle=True, num_workers=2)\n",
        "\n",
        "testset = torchvision.datasets.CIFAR100(root='./data', train=False, download=False, transform=transform)\n",
        "testloader = torch.utils.data.DataLoader(testset, batch_size=100, shuffle=False, num_workers=2)"
      ]
    },
    {
      "cell_type": "code",
      "execution_count": 6,
      "metadata": {
        "colab": {
          "base_uri": "https://localhost:8080/"
        },
        "id": "LbJ9E9LDBagO",
        "outputId": "680953d1-a7d6-4023-a9b8-0385c2ec3e9f"
      },
      "outputs": [
        {
          "name": "stderr",
          "output_type": "stream",
          "text": [
            "/home/BTECH_7TH_SEM/Documents/MML/MMLenv/lib/python3.12/site-packages/torchvision/models/_utils.py:208: UserWarning: The parameter 'pretrained' is deprecated since 0.13 and may be removed in the future, please use 'weights' instead.\n",
            "  warnings.warn(\n",
            "/home/BTECH_7TH_SEM/Documents/MML/MMLenv/lib/python3.12/site-packages/torchvision/models/_utils.py:223: UserWarning: Arguments other than a weight enum or `None` for 'weights' are deprecated since 0.13 and may be removed in the future. The current behavior is equivalent to passing `weights=ResNet18_Weights.IMAGENET1K_V1`. You can also use `weights=ResNet18_Weights.DEFAULT` to get the most up-to-date weights.\n",
            "  warnings.warn(msg)\n",
            "23.5%"
          ]
        },
        {
          "name": "stdout",
          "output_type": "stream",
          "text": [
            "Downloading: \"https://download.pytorch.org/models/resnet18-f37072fd.pth\" to /home/BTECH_7TH_SEM/.cache/torch/hub/checkpoints/resnet18-f37072fd.pth\n"
          ]
        },
        {
          "name": "stderr",
          "output_type": "stream",
          "text": [
            "100.0%\n"
          ]
        }
      ],
      "source": [
        "# loading pretrained model ResNet18\n",
        "model = models.resnet18(pretrained=True)\n",
        "\n",
        "# modifying first conv layer for 32x32 (reduce stride to keep more spatial info)\n",
        "model.conv1 = nn.Conv2d(3, 64, kernel_size=3, stride=1, padding=1, bias=False)\n",
        "model.maxpool = nn.Identity()  # remove the initial maxpool for small images\n",
        "\n",
        "# replacing final layer for CIFAR-100\n",
        "model.fc = nn.Linear(model.fc.in_features, 100)\n",
        "\n",
        "model = model.to(device)\n",
        "\n",
        "# loss & optimizer\n",
        "criterion = nn.CrossEntropyLoss()\n",
        "optimizer = optim.SGD(model.parameters(), lr=0.01, momentum=0.9, weight_decay=5e-4)"
      ]
    },
    {
      "cell_type": "code",
      "execution_count": 7,
      "metadata": {
        "id": "Q24PupBuBhXx"
      },
      "outputs": [],
      "source": [
        "# training function\n",
        "def train(epoch):\n",
        "    model.train()\n",
        "    correct, total, running_loss = 0, 0, 0.0\n",
        "    for inputs, targets in trainloader:\n",
        "        inputs, targets = inputs.to(device), targets.to(device)\n",
        "        optimizer.zero_grad()\n",
        "        outputs = model(inputs)\n",
        "        loss = criterion(outputs, targets)\n",
        "        loss.backward()\n",
        "        optimizer.step()\n",
        "\n",
        "        running_loss += loss.item()\n",
        "        _, predicted = outputs.max(1)\n",
        "        total += targets.size(0)\n",
        "        correct += predicted.eq(targets).sum().item()\n",
        "\n",
        "    print(f\"Epoch {epoch}: Train Loss: {running_loss/len(trainloader):.3f}, \"\n",
        "          f\"Accuracy: {100.*correct/total:.2f}%\")"
      ]
    },
    {
      "cell_type": "code",
      "execution_count": 8,
      "metadata": {
        "id": "hON0AvqoBjg9"
      },
      "outputs": [],
      "source": [
        "# test function\n",
        "def test():\n",
        "    model.eval()\n",
        "    correct, total = 0, 0\n",
        "    with torch.no_grad():\n",
        "        for inputs, targets in testloader:\n",
        "            inputs, targets = inputs.to(device), targets.to(device)\n",
        "            outputs = model(inputs)\n",
        "            _, predicted = outputs.max(1)\n",
        "            total += targets.size(0)\n",
        "            correct += predicted.eq(targets).sum().item()\n",
        "    acc = 100. * correct / total\n",
        "    print(f\"Test Accuracy: {acc:.2f}%\")\n",
        "    return acc\n"
      ]
    },
    {
      "cell_type": "code",
      "execution_count": 9,
      "metadata": {
        "colab": {
          "base_uri": "https://localhost:8080/"
        },
        "id": "ZnPqGaYLBvDS",
        "outputId": "d513ee95-e0d5-4d2e-f5d5-25c2fe897e3a"
      },
      "outputs": [
        {
          "name": "stdout",
          "output_type": "stream",
          "text": [
            "Epoch 1: Train Loss: 2.213, Accuracy: 42.66%\n",
            "Test Accuracy: 58.16%\n",
            "Model saved!\n",
            "Epoch 2: Train Loss: 1.045, Accuracy: 69.11%\n",
            "Test Accuracy: 65.12%\n",
            "Model saved!\n",
            "Epoch 3: Train Loss: 0.602, Accuracy: 81.68%\n",
            "Test Accuracy: 67.53%\n",
            "Model saved!\n",
            "Epoch 4: Train Loss: 0.309, Accuracy: 90.89%\n",
            "Test Accuracy: 70.19%\n",
            "Model saved!\n",
            "Epoch 5: Train Loss: 0.127, Accuracy: 96.89%\n",
            "Test Accuracy: 70.40%\n",
            "Model saved!\n",
            "Epoch 6: Train Loss: 0.046, Accuracy: 99.25%\n",
            "Test Accuracy: 72.95%\n",
            "Model saved!\n",
            "Epoch 7: Train Loss: 0.018, Accuracy: 99.84%\n",
            "Test Accuracy: 73.88%\n",
            "Model saved!\n",
            "Epoch 8: Train Loss: 0.010, Accuracy: 99.93%\n",
            "Test Accuracy: 74.10%\n",
            "Model saved!\n",
            "Epoch 9: Train Loss: 0.007, Accuracy: 99.94%\n",
            "Test Accuracy: 74.15%\n",
            "Model saved!\n",
            "Epoch 10: Train Loss: 0.006, Accuracy: 99.96%\n",
            "Test Accuracy: 74.42%\n",
            "Model saved!\n",
            "Epoch 11: Train Loss: 0.006, Accuracy: 99.96%\n",
            "Test Accuracy: 74.35%\n",
            "Epoch 12: Train Loss: 0.005, Accuracy: 99.96%\n",
            "Test Accuracy: 74.19%\n",
            "Epoch 13: Train Loss: 0.005, Accuracy: 99.96%\n",
            "Test Accuracy: 74.58%\n",
            "Model saved!\n",
            "Epoch 14: Train Loss: 0.005, Accuracy: 99.97%\n",
            "Test Accuracy: 74.35%\n",
            "Epoch 15: Train Loss: 0.005, Accuracy: 99.97%\n",
            "Test Accuracy: 74.27%\n",
            "Epoch 16: Train Loss: 0.005, Accuracy: 99.96%\n",
            "Test Accuracy: 74.68%\n",
            "Model saved!\n",
            "Epoch 17: Train Loss: 0.005, Accuracy: 99.97%\n",
            "Test Accuracy: 74.47%\n",
            "Epoch 18: Train Loss: 0.005, Accuracy: 99.97%\n",
            "Test Accuracy: 74.42%\n",
            "Epoch 19: Train Loss: 0.005, Accuracy: 99.97%\n",
            "Test Accuracy: 74.49%\n",
            "Epoch 20: Train Loss: 0.005, Accuracy: 99.97%\n",
            "Test Accuracy: 74.42%\n",
            "\n",
            "Best Test Accuracy Achieved: 74.68%\n"
          ]
        }
      ],
      "source": [
        "best_acc = 0\n",
        "for epoch in range(1, 21):\n",
        "    train(epoch)\n",
        "    acc = test()\n",
        "    if acc > best_acc:\n",
        "        best_acc = acc\n",
        "        torch.save(model.state_dict(), \"best_cifar100_resnet18.pth\")\n",
        "        print(\"Model saved!\")\n",
        "\n",
        "print(f\"\\nBest Test Accuracy Achieved: {best_acc:.2f}%\")"
      ]
    },
    {
      "cell_type": "code",
      "execution_count": null,
      "metadata": {},
      "outputs": [],
      "source": []
    }
  ],
  "metadata": {
    "accelerator": "GPU",
    "colab": {
      "gpuType": "T4",
      "provenance": [],
      "toc_visible": true
    },
    "kernelspec": {
      "display_name": "MMLenv",
      "language": "python",
      "name": "python3"
    },
    "language_info": {
      "codemirror_mode": {
        "name": "ipython",
        "version": 3
      },
      "file_extension": ".py",
      "mimetype": "text/x-python",
      "name": "python",
      "nbconvert_exporter": "python",
      "pygments_lexer": "ipython3",
      "version": "3.12.3"
    }
  },
  "nbformat": 4,
  "nbformat_minor": 0
}
